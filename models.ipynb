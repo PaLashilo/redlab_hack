{
 "cells": [
  {
   "cell_type": "code",
   "execution_count": 6,
   "metadata": {},
   "outputs": [],
   "source": [
    "import pandas as pd\n",
    "import numpy as np\n",
    "\n",
    "import json\n",
    "import wandb\n",
    "import matplotlib.pyplot as plt\n",
    "from datetime import datetime\n",
    "\n",
    "\n",
    "from utils.ml_utils import metrics, ml, calculate_weight, normalize_data\n",
    "from utils.utils import make_table\n",
    "from utils.wandb_logging import init_exp, log_params, finish_exp\n",
    "\n",
    "import warnings\n",
    "warnings.filterwarnings(\"ignore\")\n",
    "\n",
    "from typing import List, Dict"
   ]
  },
  {
   "cell_type": "code",
   "execution_count": 2,
   "metadata": {},
   "outputs": [],
   "source": [
    "cols = [\"account_id\", \"name\", \"point\", \"call_count\", \"total_call_time\", \"total_exclusive_time\", \"min_call_time\", \"max_call_time\", \"sum_of_squares\", \"instances\", \"language\", \"app_name\", \"app_id\", \"scope\", \"host\", \"display_host\", \"pid\", \"agent_version\", \"labels\"]\n",
    "data_raw = pd.read_csv(\"Data/metrics_collector.tsv\", names = cols, sep=\"\\t\")"
   ]
  },
  {
   "cell_type": "code",
   "execution_count": 84,
   "metadata": {},
   "outputs": [],
   "source": [
    "data = make_table(data_raw)"
   ]
  },
  {
   "cell_type": "code",
   "execution_count": 67,
   "metadata": {},
   "outputs": [],
   "source": [
    "from pyod.models.ecod import ECOD\n",
    "from pyod.models.hbos import HBOS\n",
    "from pyod.models.iforest import IForest"
   ]
  },
  {
   "cell_type": "code",
   "execution_count": 100,
   "metadata": {},
   "outputs": [],
   "source": [
    "def ml(data: pd.DataFrame, start_date: datetime, end_date: datetime) -> Dict[str, pd.DataFrame]:\n",
    "\n",
    "    \"\"\"\n",
    "    Вход \n",
    "    - список колонок по которым нужно обучить модель list(str) \n",
    "    - дата начала промежутка datetime\n",
    "    - дата конца промежутка datetime\n",
    "    - датафрейм с поминутными метриками\n",
    "\n",
    "    Выход\n",
    "    dict: \n",
    "        - датафрейм с колонками \n",
    "            1. Таймстемп datetime\n",
    "            2. Булево значение по аномалии label\n",
    "            3. Вероятность по аномалии probability \n",
    "            4. Изначальное значение value\n",
    "    \"\"\"\n",
    "\n",
    "    def fit_clf(model, data: np.ndarray) -> pd.DataFrame:\n",
    "        model.fit(data)\n",
    "        labels = model.labels_\n",
    "        scores = model.decision_scores_\n",
    "        threshold = model.threshold_\n",
    "        threshold = (threshold - np.min(scores)) / (np.max(scores) - np.min(scores))\n",
    "\n",
    "        return pd.DataFrame({\n",
    "            \"labels\": labels,\n",
    "            \"probability\": normalize_data(scores)\n",
    "        }), threshold\n",
    "    \n",
    "    column_names = [\"web_response\", \"throughput\", \"apdex\", \"error\"]\n",
    "    weights = calculate_weight(data, column_names, start_date, end_date)\n",
    "    column_names.extend(['time', 'time_numeric'])\n",
    "    filtered_df = data[(data['time'] >= start_date) & (data['time'] <= end_date)][column_names]\n",
    "\n",
    "    result = {}\n",
    "\n",
    "    for column in column_names:\n",
    "        data_values = filtered_df[['time_numeric', column]].values\n",
    "\n",
    "        if column == \"apdex\":\n",
    "            clf = ECOD(contamination=0.004, n_jobs=-1)\n",
    "        elif column == \"web_response\":\n",
    "            clf = IForest(contamination=0.001)\n",
    "        elif column == \"throughput\":\n",
    "            clf = HBOS(contamination=0.0035)\n",
    "        elif column == \"error\":\n",
    "            clf = IForest(contamination=0.0011)\n",
    "        else:\n",
    "            continue\n",
    "\n",
    "        clf_df, threshold = fit_clf(clf, data_values)\n",
    "        clf_df[\"time\"] = filtered_df[\"time\"].values\n",
    "        clf_df[\"value\"] = filtered_df[column].values\n",
    "        result[column] = clf_df\n",
    "\n",
    "        # scaled_weight = 2/(1 + np.exp(-weights[column]))\n",
    "        # # scaled_weight = (weights[column] / (weights[column] + 1)) * 2\n",
    "        # print(column, weights[column], scaled_weight)\n",
    "        # result[column].probability = result[column].probability * scaled_weight\n",
    "        # result[column].labels = (result[column].probability > threshold).astype(int)\n",
    "\n",
    "    return result"
   ]
  },
  {
   "cell_type": "code",
   "execution_count": 93,
   "metadata": {},
   "outputs": [
    {
     "data": {
      "image/png": "[encoded data removed]",
      "text/plain": [
       "<Figure size 1500x300 with 1 Axes>"
      ]
     },
     "metadata": {},
     "output_type": "display_data"
    }
   ],
   "source": [
    "plt.figure(figsize=(15, 3)) \n",
    "plt.plot(data.time, data.error)\n",
    "plt.show()"
   ]
  },
  {
   "cell_type": "code",
   "execution_count": 101,
   "metadata": {},
   "outputs": [
    {
     "name": "stderr",
     "output_type": "stream",
     "text": [
      "[Parallel(n_jobs=2)]: Using backend LokyBackend with 2 concurrent workers.\n",
      "[Parallel(n_jobs=2)]: Done   2 out of   2 | elapsed:    0.0s finished\n"
     ]
    }
   ],
   "source": [
    "start_str = \"2024-05-12 11:32:00\"\n",
    "end_str = \"2024-05-14 11:58:00\"\n",
    "date_format = \"%Y-%m-%d %H:%M:%S\"\n",
    "\n",
    "start_obj = datetime.strptime(start_str, date_format)\n",
    "end_obj = datetime.strptime(end_str, date_format)\n",
    "\n",
    "res = ml(data, start_obj, end_obj)"
   ]
  },
  {
   "cell_type": "code",
   "execution_count": 95,
   "metadata": {},
   "outputs": [
    {
     "data": {
      "text/plain": [
       "dict_keys(['web_response', 'throughput', 'apdex', 'error'])"
      ]
     },
     "execution_count": 95,
     "metadata": {},
     "output_type": "execute_result"
    }
   ],
   "source": [
    "res.keys()"
   ]
  },
  {
   "cell_type": "code",
   "execution_count": 102,
   "metadata": {},
   "outputs": [],
   "source": [
    "df = res[\"error\"]"
   ]
  },
  {
   "cell_type": "code",
   "execution_count": 103,
   "metadata": {},
   "outputs": [
    {
     "data": {
      "text/html": [
       "<div>\n",
       "<style scoped>\n",
       "    .dataframe tbody tr th:only-of-type {\n",
       "        vertical-align: middle;\n",
       "    }\n",
       "\n",
       "    .dataframe tbody tr th {\n",
       "        vertical-align: top;\n",
       "    }\n",
       "\n",
       "    .dataframe thead th {\n",
       "        text-align: right;\n",
       "    }\n",
       "</style>\n",
       "<table border=\"1\" class=\"dataframe\">\n",
       "  <thead>\n",
       "    <tr style=\"text-align: right;\">\n",
       "      <th></th>\n",
       "      <th>labels</th>\n",
       "      <th>probability</th>\n",
       "      <th>time</th>\n",
       "      <th>value</th>\n",
       "    </tr>\n",
       "  </thead>\n",
       "  <tbody>\n",
       "    <tr>\n",
       "      <th>0</th>\n",
       "      <td>0</td>\n",
       "      <td>0.271213</td>\n",
       "      <td>2024-05-12 11:32:00</td>\n",
       "      <td>0.000251</td>\n",
       "    </tr>\n",
       "    <tr>\n",
       "      <th>1</th>\n",
       "      <td>0</td>\n",
       "      <td>0.254956</td>\n",
       "      <td>2024-05-12 11:33:00</td>\n",
       "      <td>0.000122</td>\n",
       "    </tr>\n",
       "    <tr>\n",
       "      <th>2</th>\n",
       "      <td>0</td>\n",
       "      <td>0.260376</td>\n",
       "      <td>2024-05-12 11:34:00</td>\n",
       "      <td>0.000249</td>\n",
       "    </tr>\n",
       "    <tr>\n",
       "      <th>3</th>\n",
       "      <td>0</td>\n",
       "      <td>0.250708</td>\n",
       "      <td>2024-05-12 11:35:00</td>\n",
       "      <td>0.000128</td>\n",
       "    </tr>\n",
       "    <tr>\n",
       "      <th>4</th>\n",
       "      <td>0</td>\n",
       "      <td>0.254778</td>\n",
       "      <td>2024-05-12 11:36:00</td>\n",
       "      <td>0.000134</td>\n",
       "    </tr>\n",
       "    <tr>\n",
       "      <th>...</th>\n",
       "      <td>...</td>\n",
       "      <td>...</td>\n",
       "      <td>...</td>\n",
       "      <td>...</td>\n",
       "    </tr>\n",
       "    <tr>\n",
       "      <th>2902</th>\n",
       "      <td>0</td>\n",
       "      <td>0.367080</td>\n",
       "      <td>2024-05-14 11:54:00</td>\n",
       "      <td>0.000111</td>\n",
       "    </tr>\n",
       "    <tr>\n",
       "      <th>2903</th>\n",
       "      <td>0</td>\n",
       "      <td>0.366929</td>\n",
       "      <td>2024-05-14 11:55:00</td>\n",
       "      <td>0.000000</td>\n",
       "    </tr>\n",
       "    <tr>\n",
       "      <th>2904</th>\n",
       "      <td>0</td>\n",
       "      <td>0.366929</td>\n",
       "      <td>2024-05-14 11:56:00</td>\n",
       "      <td>0.000000</td>\n",
       "    </tr>\n",
       "    <tr>\n",
       "      <th>2905</th>\n",
       "      <td>0</td>\n",
       "      <td>0.366929</td>\n",
       "      <td>2024-05-14 11:57:00</td>\n",
       "      <td>0.000000</td>\n",
       "    </tr>\n",
       "    <tr>\n",
       "      <th>2906</th>\n",
       "      <td>0</td>\n",
       "      <td>0.369074</td>\n",
       "      <td>2024-05-14 11:58:00</td>\n",
       "      <td>0.000120</td>\n",
       "    </tr>\n",
       "  </tbody>\n",
       "</table>\n",
       "<p>2907 rows × 4 columns</p>\n",
       "</div>"
      ],
      "text/plain": [
       "      labels  probability                time     value\n",
       "0          0     0.271213 2024-05-12 11:32:00  0.000251\n",
       "1          0     0.254956 2024-05-12 11:33:00  0.000122\n",
       "2          0     0.260376 2024-05-12 11:34:00  0.000249\n",
       "3          0     0.250708 2024-05-12 11:35:00  0.000128\n",
       "4          0     0.254778 2024-05-12 11:36:00  0.000134\n",
       "...      ...          ...                 ...       ...\n",
       "2902       0     0.367080 2024-05-14 11:54:00  0.000111\n",
       "2903       0     0.366929 2024-05-14 11:55:00  0.000000\n",
       "2904       0     0.366929 2024-05-14 11:56:00  0.000000\n",
       "2905       0     0.366929 2024-05-14 11:57:00  0.000000\n",
       "2906       0     0.369074 2024-05-14 11:58:00  0.000120\n",
       "\n",
       "[2907 rows x 4 columns]"
      ]
     },
     "execution_count": 103,
     "metadata": {},
     "output_type": "execute_result"
    }
   ],
   "source": [
    "df"
   ]
  },
  {
   "cell_type": "code",
   "execution_count": 104,
   "metadata": {},
   "outputs": [
    {
     "data": {
      "image/png": "[encoded data removed]",
      "text/plain": [
       "<Figure size 1500x600 with 1 Axes>"
      ]
     },
     "metadata": {},
     "output_type": "display_data"
    }
   ],
   "source": [
    "import matplotlib.pyplot as plt\n",
    "\n",
    "# Создаем график\n",
    "plt.figure(figsize=(15, 6))\n",
    "\n",
    "# Отмечаем аномалии красными точками\n",
    "plt.scatter(df['time'][df['labels'] == 1], df['value'][df['labels'] == 1], color='red', label='Anomaly')\n",
    "\n",
    "# Строим временной ряд\n",
    "plt.plot(df['time'], df['value'], label='Time Series')\n",
    "\n",
    "# Добавляем легенду\n",
    "plt.legend()\n",
    "\n",
    "# Добавляем названия осей\n",
    "plt.xlabel('Time')\n",
    "plt.ylabel('Value')\n",
    "\n",
    "# Отображаем график\n",
    "plt.show()"
   ]
  },
  {
   "cell_type": "code",
   "execution_count": 99,
   "metadata": {},
   "outputs": [
    {
     "data": {
      "image/png": "[encoded data removed]",
      "text/plain": [
       "<Figure size 1500x600 with 1 Axes>"
      ]
     },
     "metadata": {},
     "output_type": "display_data"
    }
   ],
   "source": [
    "import matplotlib.pyplot as plt\n",
    "\n",
    "# Создаем график\n",
    "plt.figure(figsize=(15, 6))\n",
    "\n",
    "# Отмечаем аномалии красными точками\n",
    "plt.scatter(df['time'][df['labels'] == 1], df['value'][df['labels'] == 1], color='red', label='Anomaly')\n",
    "\n",
    "# Строим временной ряд\n",
    "plt.plot(df['time'], df['value'], label='Time Series')\n",
    "\n",
    "# Добавляем легенду\n",
    "plt.legend()\n",
    "\n",
    "# Добавляем названия осей\n",
    "plt.xlabel('Time')\n",
    "plt.ylabel('Value')\n",
    "\n",
    "# Отображаем график\n",
    "plt.show()"
   ]
  },
  {
   "cell_type": "code",
   "execution_count": 156,
   "metadata": {},
   "outputs": [
    {
     "name": "stdout",
     "output_type": "stream",
     "text": [
      "Column: web_response, Overall Variance: 0.000388398328818089, Overall Mean: 0.014054376522158416, Without Anomaly Sum: 0.00015611627895546247\n",
      "Column: throughput, Overall Variance: 1464579.4283636156, Overall Mean: 3624.7797536517833, Without Anomaly Sum: 2642037.262015677\n",
      "Column: apdex, Overall Variance: 3.1235220184250507e-05, Overall Mean: 0.9985337442498524, Without Anomaly Sum: 1.9693548863271425e-06\n",
      "Column: error, Overall Variance: 2.9563878510515153e-05, Overall Mean: 0.00033519405510003844, Without Anomaly Sum: 7.045508077208396e-07\n",
      "CPU times: user 4.12 ms, sys: 1.27 ms, total: 5.39 ms\n",
      "Wall time: 5.09 ms\n"
     ]
    }
   ],
   "source": [
    "%%time\n",
    "weights = calculate_weight(res, start_obj, end_obj)"
   ]
  },
  {
   "cell_type": "code",
   "execution_count": 157,
   "metadata": {},
   "outputs": [
    {
     "data": {
      "text/plain": [
       "{'web_response': 0.40194889465804423,\n",
       " 'throughput': 1.803956283182021,\n",
       " 'apdex': 0.06304917572888233,\n",
       " 'error': 0.023831474191393663}"
      ]
     },
     "execution_count": 157,
     "metadata": {},
     "output_type": "execute_result"
    }
   ],
   "source": [
    "weights"
   ]
  },
  {
   "cell_type": "code",
   "execution_count": 158,
   "metadata": {},
   "outputs": [
    {
     "data": {
      "text/plain": [
       "dict_keys(['web_response', 'throughput', 'apdex', 'error'])"
      ]
     },
     "execution_count": 158,
     "metadata": {},
     "output_type": "execute_result"
    }
   ],
   "source": [
    "res.keys()"
   ]
  },
  {
   "cell_type": "code",
   "execution_count": 160,
   "metadata": {},
   "outputs": [
    {
     "data": {
      "text/plain": [
       "240     0.996253\n",
       "241     0.996253\n",
       "247     0.996253\n",
       "272     0.996253\n",
       "273     0.996253\n",
       "279     0.996253\n",
       "282     0.996253\n",
       "283     0.996253\n",
       "628     1.000000\n",
       "2068    1.000000\n",
       "Name: probability, dtype: float64"
      ]
     },
     "execution_count": 160,
     "metadata": {},
     "output_type": "execute_result"
    }
   ],
   "source": [
    "df[df.labels == 1].probability.sort_values()"
   ]
  },
  {
   "cell_type": "code",
   "execution_count": 161,
   "metadata": {},
   "outputs": [
    {
     "data": {
      "text/plain": [
       "1959    0.000000\n",
       "434     0.000000\n",
       "433     0.000000\n",
       "432     0.000000\n",
       "431     0.000000\n",
       "          ...   \n",
       "267     0.978986\n",
       "266     0.978986\n",
       "265     0.978986\n",
       "263     0.978986\n",
       "257     0.978986\n",
       "Name: probability, Length: 2897, dtype: float64"
      ]
     },
     "execution_count": 161,
     "metadata": {},
     "output_type": "execute_result"
    }
   ],
   "source": [
    "df[df.labels == 0].probability.sort_values()"
   ]
  },
  {
   "cell_type": "code",
   "execution_count": 162,
   "metadata": {},
   "outputs": [
    {
     "data": {
      "text/plain": [
       "482     0.000000\n",
       "1828    0.000000\n",
       "1829    0.000000\n",
       "1830    0.000000\n",
       "1831    0.000000\n",
       "          ...   \n",
       "282     0.996253\n",
       "283     0.996253\n",
       "241     0.996253\n",
       "2068    1.000000\n",
       "628     1.000000\n",
       "Name: probability, Length: 2907, dtype: float64"
      ]
     },
     "execution_count": 162,
     "metadata": {},
     "output_type": "execute_result"
    }
   ],
   "source": [
    "df.probability.sort_values()"
   ]
  },
  {
   "cell_type": "code",
   "execution_count": 179,
   "metadata": {},
   "outputs": [],
   "source": [
    "df.probability = df.probability*1.28"
   ]
  },
  {
   "cell_type": "code",
   "execution_count": 164,
   "metadata": {},
   "outputs": [
    {
     "data": {
      "text/plain": [
       "Index(['labels', 'probability', 'time', 'value'], dtype='object')"
      ]
     },
     "execution_count": 164,
     "metadata": {},
     "output_type": "execute_result"
    }
   ],
   "source": [
    "df.columns"
   ]
  },
  {
   "cell_type": "code",
   "execution_count": 165,
   "metadata": {},
   "outputs": [
    {
     "data": {
      "text/plain": [
       "labels\n",
       "0    2897\n",
       "1      10\n",
       "Name: count, dtype: int64"
      ]
     },
     "execution_count": 165,
     "metadata": {},
     "output_type": "execute_result"
    }
   ],
   "source": [
    "df.labels.value_counts()"
   ]
  },
  {
   "cell_type": "code",
   "execution_count": 166,
   "metadata": {},
   "outputs": [
    {
     "data": {
      "text/html": [
       "<div>\n",
       "<style scoped>\n",
       "    .dataframe tbody tr th:only-of-type {\n",
       "        vertical-align: middle;\n",
       "    }\n",
       "\n",
       "    .dataframe tbody tr th {\n",
       "        vertical-align: top;\n",
       "    }\n",
       "\n",
       "    .dataframe thead th {\n",
       "        text-align: right;\n",
       "    }\n",
       "</style>\n",
       "<table border=\"1\" class=\"dataframe\">\n",
       "  <thead>\n",
       "    <tr style=\"text-align: right;\">\n",
       "      <th></th>\n",
       "      <th>labels</th>\n",
       "      <th>probability</th>\n",
       "      <th>time</th>\n",
       "      <th>value</th>\n",
       "    </tr>\n",
       "  </thead>\n",
       "  <tbody>\n",
       "    <tr>\n",
       "      <th>0</th>\n",
       "      <td>0</td>\n",
       "      <td>2.543067e-11</td>\n",
       "      <td>2024-04-26 11:32:00</td>\n",
       "      <td>4584.0</td>\n",
       "    </tr>\n",
       "    <tr>\n",
       "      <th>1</th>\n",
       "      <td>0</td>\n",
       "      <td>2.543067e-11</td>\n",
       "      <td>2024-04-26 11:33:00</td>\n",
       "      <td>4631.0</td>\n",
       "    </tr>\n",
       "    <tr>\n",
       "      <th>2</th>\n",
       "      <td>0</td>\n",
       "      <td>2.543067e-11</td>\n",
       "      <td>2024-04-26 11:34:00</td>\n",
       "      <td>4805.5</td>\n",
       "    </tr>\n",
       "    <tr>\n",
       "      <th>3</th>\n",
       "      <td>0</td>\n",
       "      <td>2.543067e-11</td>\n",
       "      <td>2024-04-26 11:35:00</td>\n",
       "      <td>4666.0</td>\n",
       "    </tr>\n",
       "    <tr>\n",
       "      <th>4</th>\n",
       "      <td>0</td>\n",
       "      <td>2.543067e-11</td>\n",
       "      <td>2024-04-26 11:36:00</td>\n",
       "      <td>4685.0</td>\n",
       "    </tr>\n",
       "    <tr>\n",
       "      <th>...</th>\n",
       "      <td>...</td>\n",
       "      <td>...</td>\n",
       "      <td>...</td>\n",
       "      <td>...</td>\n",
       "    </tr>\n",
       "    <tr>\n",
       "      <th>2902</th>\n",
       "      <td>0</td>\n",
       "      <td>3.727492e-01</td>\n",
       "      <td>2024-04-28 11:54:00</td>\n",
       "      <td>4199.5</td>\n",
       "    </tr>\n",
       "    <tr>\n",
       "      <th>2903</th>\n",
       "      <td>0</td>\n",
       "      <td>3.727492e-01</td>\n",
       "      <td>2024-04-28 11:55:00</td>\n",
       "      <td>4227.0</td>\n",
       "    </tr>\n",
       "    <tr>\n",
       "      <th>2904</th>\n",
       "      <td>0</td>\n",
       "      <td>3.727492e-01</td>\n",
       "      <td>2024-04-28 11:56:00</td>\n",
       "      <td>4023.0</td>\n",
       "    </tr>\n",
       "    <tr>\n",
       "      <th>2905</th>\n",
       "      <td>0</td>\n",
       "      <td>3.727492e-01</td>\n",
       "      <td>2024-04-28 11:57:00</td>\n",
       "      <td>3914.0</td>\n",
       "    </tr>\n",
       "    <tr>\n",
       "      <th>2906</th>\n",
       "      <td>0</td>\n",
       "      <td>3.727492e-01</td>\n",
       "      <td>2024-04-28 11:58:00</td>\n",
       "      <td>3972.0</td>\n",
       "    </tr>\n",
       "  </tbody>\n",
       "</table>\n",
       "<p>2907 rows × 4 columns</p>\n",
       "</div>"
      ],
      "text/plain": [
       "      labels   probability                time   value\n",
       "0          0  2.543067e-11 2024-04-26 11:32:00  4584.0\n",
       "1          0  2.543067e-11 2024-04-26 11:33:00  4631.0\n",
       "2          0  2.543067e-11 2024-04-26 11:34:00  4805.5\n",
       "3          0  2.543067e-11 2024-04-26 11:35:00  4666.0\n",
       "4          0  2.543067e-11 2024-04-26 11:36:00  4685.0\n",
       "...      ...           ...                 ...     ...\n",
       "2902       0  3.727492e-01 2024-04-28 11:54:00  4199.5\n",
       "2903       0  3.727492e-01 2024-04-28 11:55:00  4227.0\n",
       "2904       0  3.727492e-01 2024-04-28 11:56:00  4023.0\n",
       "2905       0  3.727492e-01 2024-04-28 11:57:00  3914.0\n",
       "2906       0  3.727492e-01 2024-04-28 11:58:00  3972.0\n",
       "\n",
       "[2907 rows x 4 columns]"
      ]
     },
     "execution_count": 166,
     "metadata": {},
     "output_type": "execute_result"
    }
   ],
   "source": [
    "df"
   ]
  },
  {
   "cell_type": "code",
   "execution_count": 172,
   "metadata": {},
   "outputs": [
    {
     "data": {
      "text/plain": [
       "1.7162978701990246"
      ]
     },
     "execution_count": 172,
     "metadata": {},
     "output_type": "execute_result"
    }
   ],
   "source": [
    "(1/(1 + np.exp(-1.8)))*2"
   ]
  },
  {
   "cell_type": "code",
   "execution_count": 176,
   "metadata": {},
   "outputs": [
    {
     "data": {
      "text/plain": [
       "1.2857142857142858"
      ]
     },
     "execution_count": 176,
     "metadata": {},
     "output_type": "execute_result"
    }
   ],
   "source": [
    "(1.8 / (1.8 + 1)) * 2"
   ]
  },
  {
   "cell_type": "code",
   "execution_count": 43,
   "metadata": {},
   "outputs": [
    {
     "name": "stdout",
     "output_type": "stream",
     "text": [
      "[1 1 1 ... 1 1 1]\n"
     ]
    },
    {
     "ename": "CommError",
     "evalue": "Run initialization has timed out after 90.0 sec. \nPlease refer to the documentation for additional information: https://docs.wandb.ai/guides/track/tracking-faq#initstarterror-error-communicating-with-wandb-process-",
     "output_type": "error",
     "traceback": [
      "\u001b[0;31m---------------------------------------------------------------------------\u001b[0m",
      "\u001b[0;31mCommError\u001b[0m                                 Traceback (most recent call last)",
      "Cell \u001b[0;32mIn[43], line 32\u001b[0m\n\u001b[1;32m     19\u001b[0m metrics_dict[timeseries_col] \u001b[38;5;241m=\u001b[39m metrics(X, predictions, timeseries_col)\n\u001b[1;32m     21\u001b[0m \u001b[38;5;66;03m# wandb logging \u001b[39;00m\n\u001b[1;32m     22\u001b[0m \u001b[38;5;66;03m# init_exp(exp_tags=[config_model_name, timeseries_col])\u001b[39;00m\n\u001b[1;32m     23\u001b[0m \u001b[38;5;66;03m# log_params(config[config_model_name][timeseries_col])\u001b[39;00m\n\u001b[0;32m   (...)\u001b[0m\n\u001b[1;32m     29\u001b[0m     \n\u001b[1;32m     30\u001b[0m \u001b[38;5;66;03m# wandb.login(key=api_key)\u001b[39;00m\n\u001b[0;32m---> 32\u001b[0m exp \u001b[38;5;241m=\u001b[39m \u001b[43mwandb\u001b[49m\u001b[38;5;241;43m.\u001b[39;49m\u001b[43minit\u001b[49m\u001b[43m(\u001b[49m\u001b[43mproject\u001b[49m\u001b[38;5;241;43m=\u001b[39;49m\u001b[38;5;124;43m\"\u001b[39;49m\u001b[38;5;124;43mredlab-hack\u001b[39;49m\u001b[38;5;124;43m\"\u001b[39;49m\u001b[43m,\u001b[49m\u001b[43m \u001b[49m\u001b[43mtags\u001b[49m\u001b[38;5;241;43m=\u001b[39;49m\u001b[43m[\u001b[49m\u001b[43mconfig_model_name\u001b[49m\u001b[43m,\u001b[49m\u001b[43m \u001b[49m\u001b[43mtimeseries_col\u001b[49m\u001b[43m]\u001b[49m\u001b[43m)\u001b[49m\n\u001b[1;32m     33\u001b[0m wandb\u001b[38;5;241m.\u001b[39mlog(config[config_model_name][timeseries_col])\n\u001b[1;32m     34\u001b[0m \u001b[38;5;66;03m# wandb.log(metrics_dict)\u001b[39;00m\n",
      "File \u001b[0;32m~/Desktop/DS/Клуб/redlab_hack/venv/lib/python3.12/site-packages/wandb/sdk/wandb_init.py:1178\u001b[0m, in \u001b[0;36minit\u001b[0;34m(job_type, dir, config, project, entity, reinit, tags, group, name, notes, magic, config_exclude_keys, config_include_keys, anonymous, mode, allow_val_change, resume, force, tensorboard, sync_tensorboard, monitor_gym, save_code, id, fork_from, settings)\u001b[0m\n\u001b[1;32m   1174\u001b[0m     logger\u001b[38;5;241m.\u001b[39mexception(\u001b[38;5;124m\"\u001b[39m\u001b[38;5;124merror in wandb.init()\u001b[39m\u001b[38;5;124m\"\u001b[39m, exc_info\u001b[38;5;241m=\u001b[39me)\n\u001b[1;32m   1176\u001b[0m \u001b[38;5;66;03m# Need to build delay into this sentry capture because our exit hooks\u001b[39;00m\n\u001b[1;32m   1177\u001b[0m \u001b[38;5;66;03m# mess with sentry's ability to send out errors before the program ends.\u001b[39;00m\n\u001b[0;32m-> 1178\u001b[0m \u001b[43mwandb\u001b[49m\u001b[38;5;241;43m.\u001b[39;49m\u001b[43m_sentry\u001b[49m\u001b[38;5;241;43m.\u001b[39;49m\u001b[43mreraise\u001b[49m\u001b[43m(\u001b[49m\u001b[43me\u001b[49m\u001b[43m)\u001b[49m\n\u001b[1;32m   1179\u001b[0m \u001b[38;5;28;01mraise\u001b[39;00m \u001b[38;5;167;01mAssertionError\u001b[39;00m()\n",
      "File \u001b[0;32m~/Desktop/DS/Клуб/redlab_hack/venv/lib/python3.12/site-packages/wandb/analytics/sentry.py:155\u001b[0m, in \u001b[0;36mSentry.reraise\u001b[0;34m(self, exc)\u001b[0m\n\u001b[1;32m    152\u001b[0m \u001b[38;5;28mself\u001b[39m\u001b[38;5;241m.\u001b[39mexception(exc)\n\u001b[1;32m    153\u001b[0m \u001b[38;5;66;03m# this will messily add this \"reraise\" function to the stack trace,\u001b[39;00m\n\u001b[1;32m    154\u001b[0m \u001b[38;5;66;03m# but hopefully it's not too bad\u001b[39;00m\n\u001b[0;32m--> 155\u001b[0m \u001b[38;5;28;01mraise\u001b[39;00m exc\u001b[38;5;241m.\u001b[39mwith_traceback(sys\u001b[38;5;241m.\u001b[39mexc_info()[\u001b[38;5;241m2\u001b[39m])\n",
      "File \u001b[0;32m~/Desktop/DS/Клуб/redlab_hack/venv/lib/python3.12/site-packages/wandb/sdk/wandb_init.py:1164\u001b[0m, in \u001b[0;36minit\u001b[0;34m(job_type, dir, config, project, entity, reinit, tags, group, name, notes, magic, config_exclude_keys, config_include_keys, anonymous, mode, allow_val_change, resume, force, tensorboard, sync_tensorboard, monitor_gym, save_code, id, fork_from, settings)\u001b[0m\n\u001b[1;32m   1162\u001b[0m     wi \u001b[38;5;241m=\u001b[39m _WandbInit()\n\u001b[1;32m   1163\u001b[0m     wi\u001b[38;5;241m.\u001b[39msetup(kwargs)\n\u001b[0;32m-> 1164\u001b[0m     \u001b[38;5;28;01mreturn\u001b[39;00m \u001b[43mwi\u001b[49m\u001b[38;5;241;43m.\u001b[39;49m\u001b[43minit\u001b[49m\u001b[43m(\u001b[49m\u001b[43m)\u001b[49m\n\u001b[1;32m   1166\u001b[0m \u001b[38;5;28;01mexcept\u001b[39;00m \u001b[38;5;167;01mKeyboardInterrupt\u001b[39;00m \u001b[38;5;28;01mas\u001b[39;00m e:\n\u001b[1;32m   1167\u001b[0m     \u001b[38;5;28;01mif\u001b[39;00m logger \u001b[38;5;129;01mis\u001b[39;00m \u001b[38;5;129;01mnot\u001b[39;00m \u001b[38;5;28;01mNone\u001b[39;00m:\n",
      "File \u001b[0;32m~/Desktop/DS/Клуб/redlab_hack/venv/lib/python3.12/site-packages/wandb/sdk/wandb_init.py:776\u001b[0m, in \u001b[0;36m_WandbInit.init\u001b[0;34m(self)\u001b[0m\n\u001b[1;32m    774\u001b[0m         backend\u001b[38;5;241m.\u001b[39mcleanup()\n\u001b[1;32m    775\u001b[0m         \u001b[38;5;28mself\u001b[39m\u001b[38;5;241m.\u001b[39mteardown()\n\u001b[0;32m--> 776\u001b[0m     \u001b[38;5;28;01mraise\u001b[39;00m error\n\u001b[1;32m    778\u001b[0m \u001b[38;5;28;01massert\u001b[39;00m run_result \u001b[38;5;129;01mis\u001b[39;00m \u001b[38;5;129;01mnot\u001b[39;00m \u001b[38;5;28;01mNone\u001b[39;00m  \u001b[38;5;66;03m# for mypy\u001b[39;00m\n\u001b[1;32m    780\u001b[0m \u001b[38;5;28;01mif\u001b[39;00m \u001b[38;5;129;01mnot\u001b[39;00m run_result\u001b[38;5;241m.\u001b[39mHasField(\u001b[38;5;124m\"\u001b[39m\u001b[38;5;124mrun\u001b[39m\u001b[38;5;124m\"\u001b[39m):\n",
      "\u001b[0;31mCommError\u001b[0m: Run initialization has timed out after 90.0 sec. \nPlease refer to the documentation for additional information: https://docs.wandb.ai/guides/track/tracking-faq#initstarterror-error-communicating-with-wandb-process-"
     ]
    }
   ],
   "source": [
    "config_model_name = \"LOF\"\n",
    "metrics_dict = {}\n",
    "timeseries_cols = [\"web_response\", \"throughput\", \"apdex\", \"error\"]\n",
    "\n",
    "with open('config.json', 'r') as file:\n",
    "    config = json.load(file)\n",
    "\n",
    "\n",
    "for timeseries_col in timeseries_cols:\n",
    "    model = LOF(**config[config_model_name][timeseries_col])\n",
    "\n",
    "    # fit predict model \n",
    "    X = data_raw[[\"time\", timeseries_col]]\n",
    "    model.fit(X)\n",
    "    predictions = model.predict(X)\n",
    "    print(predictions)\n",
    "    metrics_dict[timeseries_col] = metrics(X, predictions, timeseries_col)\n",
    "\n",
    "\n",
    "    with open('secrets/wandb_secret.txt', 'r') as file:\n",
    "        api_key = file.read()\n",
    "\n",
    "    wandb.login(key=api_key)\n",
    "\n",
    "    wandb.init(project=\"redlab-hack\", tags=[config_model_name, timeseries_col])\n",
    "    wandb.log(config[config_model_name][timeseries_col])\n",
    "    wandb.log(metrics_dict)\n",
    "    wandb.finish()"
   ]
  },
  {
   "cell_type": "code",
   "execution_count": null,
   "metadata": {},
   "outputs": [],
   "source": [
    "def train_model(data: pd.DataFrame, model, params: dict, start: pd.datetime, end: pd.datetime, recalculate = 0) -> dict:\n",
    "\n",
    "    # fit predict model \n",
    "    model.fit(data)\n",
    "    predictions = model.predict() \n",
    "\n",
    "    metrics = metrics(predictions)\n",
    "\n",
    "    # wandb logging \n",
    "    log_params(metrics)\n",
    "    "
   ]
  },
  {
   "cell_type": "code",
   "execution_count": null,
   "metadata": {},
   "outputs": [],
   "source": [
    "# Define the number of inliers and outliers\n",
    "n_samples = 200\n",
    "outliers_fraction = 0.25\n",
    "clusters_separation = [0]\n",
    "\n",
    "# Compare given detectors under given settings\n",
    "# Initialize the data\n",
    "xx, yy = np.meshgrid(np.linspace(-7, 7, 100), np.linspace(-7, 7, 100))\n",
    "n_inliers = int((1. - outliers_fraction) * n_samples)\n",
    "n_outliers = int(outliers_fraction * n_samples)\n",
    "ground_truth = np.zeros(n_samples, dtype=int)\n",
    "ground_truth[-n_outliers:] = 1\n",
    "\n",
    "# initialize a set of detectors for LSCP\n",
    "detector_list = [LOF(n_neighbors=5), LOF(n_neighbors=10), LOF(n_neighbors=15),\n",
    "                 LOF(n_neighbors=20), LOF(n_neighbors=25), LOF(n_neighbors=30),\n",
    "                 LOF(n_neighbors=35), LOF(n_neighbors=40), LOF(n_neighbors=45),\n",
    "                 LOF(n_neighbors=50)]"
   ]
  },
  {
   "cell_type": "code",
   "execution_count": null,
   "metadata": {},
   "outputs": [
    {
     "data": {
      "text/plain": [
       "pyod.models.lof.LOF"
      ]
     },
     "execution_count": 13,
     "metadata": {},
     "output_type": "execute_result"
    }
   ],
   "source": [
    "type(LOF(n_neighbors=5))"
   ]
  },
  {
   "cell_type": "code",
   "execution_count": null,
   "metadata": {},
   "outputs": [
    {
     "name": "stdout",
     "output_type": "stream",
     "text": [
      "Number of inliers: 150\n",
      "Number of outliers: 50\n",
      "Ground truth shape is (200,). Outlier are 1 and inliers are 0.\n",
      "\n",
      "[0 0 0 0 0 0 0 0 0 0 0 0 0 0 0 0 0 0 0 0 0 0 0 0 0 0 0 0 0 0 0 0 0 0 0 0 0\n",
      " 0 0 0 0 0 0 0 0 0 0 0 0 0 0 0 0 0 0 0 0 0 0 0 0 0 0 0 0 0 0 0 0 0 0 0 0 0\n",
      " 0 0 0 0 0 0 0 0 0 0 0 0 0 0 0 0 0 0 0 0 0 0 0 0 0 0 0 0 0 0 0 0 0 0 0 0 0\n",
      " 0 0 0 0 0 0 0 0 0 0 0 0 0 0 0 0 0 0 0 0 0 0 0 0 0 0 0 0 0 0 0 0 0 0 0 0 0\n",
      " 0 0 1 1 1 1 1 1 1 1 1 1 1 1 1 1 1 1 1 1 1 1 1 1 1 1 1 1 1 1 1 1 1 1 1 1 1\n",
      " 1 1 1 1 1 1 1 1 1 1 1 1 1 1 1]\n"
     ]
    }
   ],
   "source": [
    "# Show the statics of the data\n",
    "print('Number of inliers: %i' % n_inliers)\n",
    "print('Number of outliers: %i' % n_outliers)\n",
    "print('Ground truth shape is {shape}. Outlier are 1 and inliers are 0.\\n'.format(shape=ground_truth.shape))\n",
    "print(ground_truth)"
   ]
  }
 ],
 "metadata": {
  "kernelspec": {
   "display_name": "venv",
   "language": "python",
   "name": "python3"
  },
  "language_info": {
   "codemirror_mode": {
    "name": "ipython",
    "version": 3
   },
   "file_extension": ".py",
   "mimetype": "text/x-python",
   "name": "python",
   "nbconvert_exporter": "python",
   "pygments_lexer": "ipython3",
   "version": "3.12.3"
  }
 },
 "nbformat": 4,
 "nbformat_minor": 2
}
